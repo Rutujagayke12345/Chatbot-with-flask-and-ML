{
 "cells": [
  {
   "cell_type": "code",
   "execution_count": 11,
   "id": "9a395a25-ec28-4ebb-a6a6-62a3c103ed59",
   "metadata": {},
   "outputs": [
    {
     "name": "stdout",
     "output_type": "stream",
     "text": [
      "['C:\\\\Users\\\\Lenovo\\\\AppData\\\\Local\\\\Programs\\\\Python\\\\Python311\\\\python311.zip', 'C:\\\\Users\\\\Lenovo\\\\AppData\\\\Local\\\\Programs\\\\Python\\\\Python311\\\\Lib', 'C:\\\\Users\\\\Lenovo\\\\AppData\\\\Local\\\\Programs\\\\Python\\\\Python311\\\\DLLs', 'C:\\\\Users\\\\Lenovo\\\\AppData\\\\Local\\\\Programs\\\\Python\\\\Python311', '', 'C:\\\\Users\\\\Lenovo\\\\AppData\\\\Local\\\\Programs\\\\Python\\\\Python311\\\\Lib\\\\site-packages', 'C:\\\\Users\\\\Lenovo\\\\AppData\\\\Local\\\\Programs\\\\Python\\\\Python311\\\\Lib\\\\site-packages\\\\win32', 'C:\\\\Users\\\\Lenovo\\\\AppData\\\\Local\\\\Programs\\\\Python\\\\Python311\\\\Lib\\\\site-packages\\\\win32\\\\lib', 'C:\\\\Users\\\\Lenovo\\\\AppData\\\\Local\\\\Programs\\\\Python\\\\Python311\\\\Lib\\\\site-packages\\\\Pythonwin', 'C:\\\\Users\\\\Lenovo\\\\PycharmProjects\\\\newchatbot']\n"
     ]
    }
   ],
   "source": [
    "import sys\n",
    "import os\n",
    "\n",
    "# Add the project root directory to sys.path\n",
    "project_root = os.path.abspath(os.path.join(os.getcwd(), \"..\"))\n",
    "\n",
    "# Add the project root to sys.path if it's not already there\n",
    "if project_root not in sys.path:\n",
    "    sys.path.append(project_root)\n",
    "\n",
    "# Verify the updated sys.path\n",
    "print(sys.path)\n"
   ]
  },
  {
   "cell_type": "code",
   "execution_count": 12,
   "id": "d1d4e314-f69d-4d76-b7a1-4fd742bf9c58",
   "metadata": {},
   "outputs": [
    {
     "name": "stdout",
     "output_type": "stream",
     "text": [
      "['chatbot_logic.py', 'intent_recognition.py', 'preprocessing.py', 'utils.py', '__pycache__']\n"
     ]
    }
   ],
   "source": [
    "import os\n",
    "print(os.listdir('../scripts'))  # Ensure that scripts folder is accessible\n"
   ]
  },
  {
   "cell_type": "code",
   "execution_count": null,
   "id": "0e525070-7b2e-4322-90e0-729df5e4324e",
   "metadata": {},
   "outputs": [],
   "source": []
  },
  {
   "cell_type": "code",
   "execution_count": 13,
   "id": "666d8daa-6acb-4893-8281-19d6946e24af",
   "metadata": {},
   "outputs": [
    {
     "name": "stderr",
     "output_type": "stream",
     "text": [
      "[nltk_data] Downloading package punkt to\n",
      "[nltk_data]     C:\\Users\\Lenovo\\AppData\\Roaming\\nltk_data...\n",
      "[nltk_data]   Package punkt is already up-to-date!\n",
      "[nltk_data] Downloading package wordnet to\n",
      "[nltk_data]     C:\\Users\\Lenovo\\AppData\\Roaming\\nltk_data...\n",
      "[nltk_data]   Package wordnet is already up-to-date!\n",
      "[nltk_data] Downloading package omw-1.4 to\n",
      "[nltk_data]     C:\\Users\\Lenovo\\AppData\\Roaming\\nltk_data...\n",
      "[nltk_data]   Package omw-1.4 is already up-to-date!\n"
     ]
    },
    {
     "data": {
      "text/plain": [
       "True"
      ]
     },
     "execution_count": 13,
     "metadata": {},
     "output_type": "execute_result"
    }
   ],
   "source": [
    "import nltk\n",
    "\n",
    "# Download required NLTK data resources\n",
    "nltk.download('punkt')\n",
    "nltk.download('wordnet')\n",
    "nltk.download('omw-1.4')\n"
   ]
  },
  {
   "cell_type": "code",
   "execution_count": 14,
   "id": "b329cdea-a9d5-4a98-b510-f0a4fb57b649",
   "metadata": {},
   "outputs": [
    {
     "name": "stdout",
     "output_type": "stream",
     "text": [
      "['test', 'sentence', 'for', 'preprocessing']\n"
     ]
    }
   ],
   "source": [
    "import re\n",
    "from nltk.stem import WordNetLemmatizer\n",
    "\n",
    "def preprocess_text(text):\n",
    "    \"\"\"\n",
    "    Preprocesses the input text by:\n",
    "    1. Converting to lowercase\n",
    "    2. Removing special characters and numbers\n",
    "    3. Tokenizing the text\n",
    "    4. Lemmatizing each token\n",
    "    \"\"\"\n",
    "    # Convert text to lowercase\n",
    "    text = text.lower()\n",
    "    \n",
    "    # Remove special characters and numbers\n",
    "    text = re.sub(r'[^a-zA-Z\\s]', '', text)\n",
    "    \n",
    "    # Tokenize the text (split by spaces)\n",
    "    words = text.split()\n",
    "    \n",
    "    # Initialize lemmatizer\n",
    "    lemmatizer = WordNetLemmatizer()\n",
    "    \n",
    "    # Lemmatize each word\n",
    "    lemmatized_words = [lemmatizer.lemmatize(word) for word in words]\n",
    "    \n",
    "    return lemmatized_words\n",
    "\n",
    "# Test the function\n",
    "print(preprocess_text(\"Test sentence for preprocessing.\"))\n"
   ]
  },
  {
   "cell_type": "code",
   "execution_count": 15,
   "id": "7f14a644-b3de-4c75-9257-4d0bda344616",
   "metadata": {},
   "outputs": [
    {
     "ename": "FileNotFoundError",
     "evalue": "[Errno 2] No such file or directory: 'data/intents.json'",
     "output_type": "error",
     "traceback": [
      "\u001b[1;31m---------------------------------------------------------------------------\u001b[0m",
      "\u001b[1;31mFileNotFoundError\u001b[0m                         Traceback (most recent call last)",
      "Cell \u001b[1;32mIn[15], line 7\u001b[0m\n\u001b[0;32m      4\u001b[0m     \u001b[38;5;28;01mwith\u001b[39;00m \u001b[38;5;28mopen\u001b[39m(filename, \u001b[38;5;124m'\u001b[39m\u001b[38;5;124mr\u001b[39m\u001b[38;5;124m'\u001b[39m) \u001b[38;5;28;01mas\u001b[39;00m file:\n\u001b[0;32m      5\u001b[0m         \u001b[38;5;28;01mreturn\u001b[39;00m json\u001b[38;5;241m.\u001b[39mload(file)\n\u001b[1;32m----> 7\u001b[0m intents \u001b[38;5;241m=\u001b[39m \u001b[43mload_intents\u001b[49m\u001b[43m(\u001b[49m\u001b[38;5;124;43m'\u001b[39;49m\u001b[38;5;124;43mdata/intents.json\u001b[39;49m\u001b[38;5;124;43m'\u001b[39;49m\u001b[43m)\u001b[49m\n",
      "Cell \u001b[1;32mIn[15], line 4\u001b[0m, in \u001b[0;36mload_intents\u001b[1;34m(filename)\u001b[0m\n\u001b[0;32m      3\u001b[0m \u001b[38;5;28;01mdef\u001b[39;00m\u001b[38;5;250m \u001b[39m\u001b[38;5;21mload_intents\u001b[39m(filename):\n\u001b[1;32m----> 4\u001b[0m     \u001b[38;5;28;01mwith\u001b[39;00m \u001b[38;5;28;43mopen\u001b[39;49m\u001b[43m(\u001b[49m\u001b[43mfilename\u001b[49m\u001b[43m,\u001b[49m\u001b[43m \u001b[49m\u001b[38;5;124;43m'\u001b[39;49m\u001b[38;5;124;43mr\u001b[39;49m\u001b[38;5;124;43m'\u001b[39;49m\u001b[43m)\u001b[49m \u001b[38;5;28;01mas\u001b[39;00m file:\n\u001b[0;32m      5\u001b[0m         \u001b[38;5;28;01mreturn\u001b[39;00m json\u001b[38;5;241m.\u001b[39mload(file)\n",
      "File \u001b[1;32m~\\AppData\\Local\\Programs\\Python\\Python311\\Lib\\site-packages\\IPython\\core\\interactiveshell.py:324\u001b[0m, in \u001b[0;36m_modified_open\u001b[1;34m(file, *args, **kwargs)\u001b[0m\n\u001b[0;32m    317\u001b[0m \u001b[38;5;28;01mif\u001b[39;00m file \u001b[38;5;129;01min\u001b[39;00m {\u001b[38;5;241m0\u001b[39m, \u001b[38;5;241m1\u001b[39m, \u001b[38;5;241m2\u001b[39m}:\n\u001b[0;32m    318\u001b[0m     \u001b[38;5;28;01mraise\u001b[39;00m \u001b[38;5;167;01mValueError\u001b[39;00m(\n\u001b[0;32m    319\u001b[0m         \u001b[38;5;124mf\u001b[39m\u001b[38;5;124m\"\u001b[39m\u001b[38;5;124mIPython won\u001b[39m\u001b[38;5;124m'\u001b[39m\u001b[38;5;124mt let you open fd=\u001b[39m\u001b[38;5;132;01m{\u001b[39;00mfile\u001b[38;5;132;01m}\u001b[39;00m\u001b[38;5;124m by default \u001b[39m\u001b[38;5;124m\"\u001b[39m\n\u001b[0;32m    320\u001b[0m         \u001b[38;5;124m\"\u001b[39m\u001b[38;5;124mas it is likely to crash IPython. If you know what you are doing, \u001b[39m\u001b[38;5;124m\"\u001b[39m\n\u001b[0;32m    321\u001b[0m         \u001b[38;5;124m\"\u001b[39m\u001b[38;5;124myou can use builtins\u001b[39m\u001b[38;5;124m'\u001b[39m\u001b[38;5;124m open.\u001b[39m\u001b[38;5;124m\"\u001b[39m\n\u001b[0;32m    322\u001b[0m     )\n\u001b[1;32m--> 324\u001b[0m \u001b[38;5;28;01mreturn\u001b[39;00m \u001b[43mio_open\u001b[49m\u001b[43m(\u001b[49m\u001b[43mfile\u001b[49m\u001b[43m,\u001b[49m\u001b[43m \u001b[49m\u001b[38;5;241;43m*\u001b[39;49m\u001b[43margs\u001b[49m\u001b[43m,\u001b[49m\u001b[43m \u001b[49m\u001b[38;5;241;43m*\u001b[39;49m\u001b[38;5;241;43m*\u001b[39;49m\u001b[43mkwargs\u001b[49m\u001b[43m)\u001b[49m\n",
      "\u001b[1;31mFileNotFoundError\u001b[0m: [Errno 2] No such file or directory: 'data/intents.json'"
     ]
    }
   ],
   "source": [
    "import json\n",
    "\n",
    "def load_intents(filename):\n",
    "    with open(filename, 'r') as file:\n",
    "        return json.load(file)\n",
    "\n",
    "intents = load_intents('data/intents.json')\n"
   ]
  },
  {
   "cell_type": "code",
   "execution_count": 17,
   "id": "f4b4989f-7672-44a4-81a0-21219302dba7",
   "metadata": {},
   "outputs": [
    {
     "ename": "FileNotFoundError",
     "evalue": "[Errno 2] No such file or directory: 'data/intents.json'",
     "output_type": "error",
     "traceback": [
      "\u001b[1;31m---------------------------------------------------------------------------\u001b[0m",
      "\u001b[1;31mFileNotFoundError\u001b[0m                         Traceback (most recent call last)",
      "Cell \u001b[1;32mIn[17], line 1\u001b[0m\n\u001b[1;32m----> 1\u001b[0m intents \u001b[38;5;241m=\u001b[39m \u001b[43mload_intents\u001b[49m\u001b[43m(\u001b[49m\u001b[38;5;124;43m'\u001b[39;49m\u001b[38;5;124;43mdata/intents.json\u001b[39;49m\u001b[38;5;124;43m'\u001b[39;49m\u001b[43m)\u001b[49m\n",
      "Cell \u001b[1;32mIn[15], line 4\u001b[0m, in \u001b[0;36mload_intents\u001b[1;34m(filename)\u001b[0m\n\u001b[0;32m      3\u001b[0m \u001b[38;5;28;01mdef\u001b[39;00m\u001b[38;5;250m \u001b[39m\u001b[38;5;21mload_intents\u001b[39m(filename):\n\u001b[1;32m----> 4\u001b[0m     \u001b[38;5;28;01mwith\u001b[39;00m \u001b[38;5;28;43mopen\u001b[39;49m\u001b[43m(\u001b[49m\u001b[43mfilename\u001b[49m\u001b[43m,\u001b[49m\u001b[43m \u001b[49m\u001b[38;5;124;43m'\u001b[39;49m\u001b[38;5;124;43mr\u001b[39;49m\u001b[38;5;124;43m'\u001b[39;49m\u001b[43m)\u001b[49m \u001b[38;5;28;01mas\u001b[39;00m file:\n\u001b[0;32m      5\u001b[0m         \u001b[38;5;28;01mreturn\u001b[39;00m json\u001b[38;5;241m.\u001b[39mload(file)\n",
      "File \u001b[1;32m~\\AppData\\Local\\Programs\\Python\\Python311\\Lib\\site-packages\\IPython\\core\\interactiveshell.py:324\u001b[0m, in \u001b[0;36m_modified_open\u001b[1;34m(file, *args, **kwargs)\u001b[0m\n\u001b[0;32m    317\u001b[0m \u001b[38;5;28;01mif\u001b[39;00m file \u001b[38;5;129;01min\u001b[39;00m {\u001b[38;5;241m0\u001b[39m, \u001b[38;5;241m1\u001b[39m, \u001b[38;5;241m2\u001b[39m}:\n\u001b[0;32m    318\u001b[0m     \u001b[38;5;28;01mraise\u001b[39;00m \u001b[38;5;167;01mValueError\u001b[39;00m(\n\u001b[0;32m    319\u001b[0m         \u001b[38;5;124mf\u001b[39m\u001b[38;5;124m\"\u001b[39m\u001b[38;5;124mIPython won\u001b[39m\u001b[38;5;124m'\u001b[39m\u001b[38;5;124mt let you open fd=\u001b[39m\u001b[38;5;132;01m{\u001b[39;00mfile\u001b[38;5;132;01m}\u001b[39;00m\u001b[38;5;124m by default \u001b[39m\u001b[38;5;124m\"\u001b[39m\n\u001b[0;32m    320\u001b[0m         \u001b[38;5;124m\"\u001b[39m\u001b[38;5;124mas it is likely to crash IPython. If you know what you are doing, \u001b[39m\u001b[38;5;124m\"\u001b[39m\n\u001b[0;32m    321\u001b[0m         \u001b[38;5;124m\"\u001b[39m\u001b[38;5;124myou can use builtins\u001b[39m\u001b[38;5;124m'\u001b[39m\u001b[38;5;124m open.\u001b[39m\u001b[38;5;124m\"\u001b[39m\n\u001b[0;32m    322\u001b[0m     )\n\u001b[1;32m--> 324\u001b[0m \u001b[38;5;28;01mreturn\u001b[39;00m \u001b[43mio_open\u001b[49m\u001b[43m(\u001b[49m\u001b[43mfile\u001b[49m\u001b[43m,\u001b[49m\u001b[43m \u001b[49m\u001b[38;5;241;43m*\u001b[39;49m\u001b[43margs\u001b[49m\u001b[43m,\u001b[49m\u001b[43m \u001b[49m\u001b[38;5;241;43m*\u001b[39;49m\u001b[38;5;241;43m*\u001b[39;49m\u001b[43mkwargs\u001b[49m\u001b[43m)\u001b[49m\n",
      "\u001b[1;31mFileNotFoundError\u001b[0m: [Errno 2] No such file or directory: 'data/intents.json'"
     ]
    }
   ],
   "source": [
    "intents = load_intents('data/intents.json')\n"
   ]
  },
  {
   "cell_type": "code",
   "execution_count": 18,
   "id": "b6bb0210-d556-4a9b-b27d-4b3d1a81c467",
   "metadata": {},
   "outputs": [],
   "source": [
    "intents = load_intents(r'C:\\Users\\Lenovo\\PycharmProjects\\newchatbot\\data\\intents.json')\n"
   ]
  },
  {
   "cell_type": "code",
   "execution_count": 19,
   "id": "fde45927-d713-48f1-bb31-73a3924cdf8e",
   "metadata": {},
   "outputs": [
    {
     "name": "stdout",
     "output_type": "stream",
     "text": [
      "C:\\Users\\Lenovo\\PycharmProjects\\newchatbot\\notebooks\n"
     ]
    }
   ],
   "source": [
    "import os\n",
    "print(os.getcwd())\n"
   ]
  },
  {
   "cell_type": "code",
   "execution_count": 20,
   "id": "17008237-3036-48cf-85e8-0625d48c624b",
   "metadata": {},
   "outputs": [],
   "source": [
    "intents = load_intents(r'C:\\Users\\Lenovo\\PycharmProjects\\newchatbot\\data\\intents.json')\n"
   ]
  },
  {
   "cell_type": "code",
   "execution_count": 21,
   "id": "2f66196a-0982-46d4-b450-25916d39b2eb",
   "metadata": {},
   "outputs": [
    {
     "name": "stdout",
     "output_type": "stream",
     "text": [
      "{'intents': [{'tag': 'greeting', 'patterns': ['Hello', 'Hi', 'How are you?', 'Hey'], 'responses': ['Hello, how can I assist you today?', 'Hi there, how can I help you?']}, {'tag': 'goodbye', 'patterns': ['Bye', 'Goodbye', 'See you later'], 'responses': ['Goodbye, have a nice day!', 'See you later!']}, {'tag': 'thanks', 'patterns': ['Thank you', 'Thanks', 'Thanks a lot'], 'responses': [\"You're welcome!\", 'Glad I could help!']}]}\n"
     ]
    }
   ],
   "source": [
    "print(intents)\n"
   ]
  },
  {
   "cell_type": "code",
   "execution_count": 22,
   "id": "79d20d99-bc9b-47a9-9ff0-815091217101",
   "metadata": {},
   "outputs": [
    {
     "name": "stdout",
     "output_type": "stream",
     "text": [
      "I'm not sure how to respond to that.\n"
     ]
    }
   ],
   "source": [
    "import random\n",
    "import re\n",
    "from nltk.stem import WordNetLemmatizer\n",
    "\n",
    "# Initialize lemmatizer\n",
    "lemmatizer = WordNetLemmatizer()\n",
    "\n",
    "# Sample intents data (you already have this loaded)\n",
    "intents = {\n",
    "    'intents': [\n",
    "        {\n",
    "            'tag': 'greeting',\n",
    "            'patterns': ['Hello', 'Hi', 'How are you?', 'Hey'],\n",
    "            'responses': ['Hello, how can I assist you today?', 'Hi there, how can I help you?']\n",
    "        },\n",
    "        {\n",
    "            'tag': 'goodbye',\n",
    "            'patterns': ['Bye', 'Goodbye', 'See you later'],\n",
    "            'responses': ['Goodbye, have a nice day!', 'See you later!']\n",
    "        },\n",
    "        {\n",
    "            'tag': 'thanks',\n",
    "            'patterns': ['Thank you', 'Thanks', 'Thanks a lot'],\n",
    "            'responses': [\"You're welcome!\", 'Glad I could help!']\n",
    "        }\n",
    "    ]\n",
    "}\n",
    "\n",
    "# Preprocessing function (simplified version)\n",
    "def preprocess_text(text):\n",
    "    # Convert text to lowercase\n",
    "    text = text.lower()\n",
    "\n",
    "    # Remove special characters and numbers\n",
    "    text = re.sub(r'[^a-zA-Z\\s]', '', text)\n",
    "\n",
    "    # Tokenize the text (split by spaces)\n",
    "    words = text.split()\n",
    "\n",
    "    # Lemmatize each word\n",
    "    words = [lemmatizer.lemmatize(word) for word in words]\n",
    "    \n",
    "    return words\n",
    "\n",
    "# Function to identify intent\n",
    "def get_intent(user_input):\n",
    "    # Preprocess the user input\n",
    "    processed_input = preprocess_text(user_input)\n",
    "\n",
    "    # Match input with intents\n",
    "    for intent in intents['intents']:\n",
    "        for pattern in intent['patterns']:\n",
    "            # Check if the preprocessed input matches the pattern\n",
    "            if all(word in pattern.lower() for word in processed_input):\n",
    "                return intent['tag']\n",
    "    return None\n",
    "\n",
    "# Function to get a response based on intent\n",
    "def get_response(intent_tag):\n",
    "    for intent in intents['intents']:\n",
    "        if intent['tag'] == intent_tag:\n",
    "            return random.choice(intent['responses'])\n",
    "    return \"Sorry, I didn't understand that.\"\n",
    "\n",
    "# Example of processing user input\n",
    "user_input = \"Hi there!\"\n",
    "intent_tag = get_intent(user_input)\n",
    "\n",
    "if intent_tag:\n",
    "    response = get_response(intent_tag)\n",
    "else:\n",
    "    response = \"I'm not sure how to respond to that.\"\n",
    "\n",
    "print(response)\n"
   ]
  },
  {
   "cell_type": "code",
   "execution_count": 24,
   "id": "aa723eb9-30de-4c91-a04d-81962ba8d808",
   "metadata": {},
   "outputs": [
    {
     "name": "stdout",
     "output_type": "stream",
     "text": [
      "Hello, how can I assist you today?\n"
     ]
    }
   ],
   "source": [
    "import random\n",
    "import re\n",
    "from nltk.stem import WordNetLemmatizer\n",
    "\n",
    "# Initialize lemmatizer\n",
    "lemmatizer = WordNetLemmatizer()\n",
    "\n",
    "# Sample intents data (you already have this loaded)\n",
    "intents = {\n",
    "    'intents': [\n",
    "        {\n",
    "            'tag': 'greeting',\n",
    "            'patterns': ['Hello', 'Hi', 'How are you?', 'Hey'],\n",
    "            'responses': ['Hello, how can I assist you today?', 'Hi there, how can I help you?']\n",
    "        },\n",
    "        {\n",
    "            'tag': 'goodbye',\n",
    "            'patterns': ['Bye', 'Goodbye', 'See you later'],\n",
    "            'responses': ['Goodbye, have a nice day!', 'See you later!']\n",
    "        },\n",
    "        {\n",
    "            'tag': 'thanks',\n",
    "            'patterns': ['Thank you', 'Thanks', 'Thanks a lot'],\n",
    "            'responses': [\"You're welcome!\", 'Glad I could help!']\n",
    "        }\n",
    "    ]\n",
    "}\n",
    "\n",
    "# Preprocessing function (simplified version)\n",
    "def preprocess_text(text):\n",
    "    # Convert text to lowercase\n",
    "    text = text.lower()\n",
    "\n",
    "    # Remove special characters and numbers\n",
    "    text = re.sub(r'[^a-zA-Z\\s]', '', text)\n",
    "\n",
    "    # Tokenize the text (split by spaces)\n",
    "    words = text.split()\n",
    "\n",
    "    # Lemmatize each word\n",
    "    words = [lemmatizer.lemmatize(word) for word in words]\n",
    "    \n",
    "    return words\n",
    "\n",
    "# Function to identify intent\n",
    "def get_intent(user_input):\n",
    "    # Preprocess the user input\n",
    "    processed_input = preprocess_text(user_input)\n",
    "\n",
    "    # Match input with intents\n",
    "    for intent in intents['intents']:\n",
    "        for pattern in intent['patterns']:\n",
    "            # Check if any word in the processed input matches the pattern\n",
    "            if any(word in pattern.lower() for word in processed_input):\n",
    "                return intent['tag']\n",
    "    return None\n",
    "\n",
    "# Function to get a response based on intent\n",
    "def get_response(intent_tag):\n",
    "    for intent in intents['intents']:\n",
    "        if intent['tag'] == intent_tag:\n",
    "            return random.choice(intent['responses'])\n",
    "    return \"Sorry, I didn't understand that.\"\n",
    "\n",
    "# Example of processing user input\n",
    "user_input = \"Hi there!\"\n",
    "intent_tag = get_intent(user_input)\n",
    "\n",
    "if intent_tag:\n",
    "    response = get_response(intent_tag)\n",
    "else:\n",
    "    response = \"I'm not sure how to respond to that.\"\n",
    "\n",
    "print(response)\n"
   ]
  },
  {
   "cell_type": "code",
   "execution_count": null,
   "id": "d6b11092-d156-447f-b7ad-c58b0028b752",
   "metadata": {},
   "outputs": [],
   "source": []
  }
 ],
 "metadata": {
  "kernelspec": {
   "display_name": "Python 3 (ipykernel)",
   "language": "python",
   "name": "python3"
  },
  "language_info": {
   "codemirror_mode": {
    "name": "ipython",
    "version": 3
   },
   "file_extension": ".py",
   "mimetype": "text/x-python",
   "name": "python",
   "nbconvert_exporter": "python",
   "pygments_lexer": "ipython3",
   "version": "3.11.0"
  }
 },
 "nbformat": 4,
 "nbformat_minor": 5
}
